{
 "cells": [
  {
   "cell_type": "markdown",
   "metadata": {
    "id": "tJQVlEp0nF49"
   },
   "source": [
    "**Depth First Search Implementation**\n",
    "\n",
    "**Used Data Structure : Stack**"
   ]
  },
  {
   "cell_type": "code",
   "execution_count": 1,
   "metadata": {
    "colab": {
     "base_uri": "https://localhost:8080/"
    },
    "id": "hYnBMeaCladm",
    "outputId": "77cc37c3-c13a-452b-da07-f3b9041c27ca"
   },
   "outputs": [
    {
     "name": "stdout",
     "output_type": "stream",
     "text": [
      "A B E G C F D "
     ]
    }
   ],
   "source": [
    "## Graph Representation\n",
    "graph = {\n",
    "    'A' : ['B','C','D'],\n",
    "    'B' : ['E'],\n",
    "    'C' : ['E', 'F'],\n",
    "    'D' : ['F'],\n",
    "    'E' : ['G'],\n",
    "    'F' : ['G'],\n",
    "    'G' : []\n",
    "}\n",
    "\n",
    "## visited set is to keep track of visited nodes\n",
    "visited = set()\n",
    "\n",
    "## Method Definition\n",
    "def depth_first_search(visited, graph, node):\n",
    "  if node not in visited:\n",
    "    print(node, end = \" \")\n",
    "    visited.add(node)\n",
    "    for adjacent in graph[node]:\n",
    "      ## Recursive call - Stack Data Structure\n",
    "      depth_first_search(visited, graph, adjacent)\n",
    "\n",
    "## Driver Code\n",
    "## Function Call\n",
    "depth_first_search(visited, graph, 'A')"
   ]
  },
  {
   "cell_type": "markdown",
   "metadata": {
    "id": "c8b85F6anZkf"
   },
   "source": [
    "**Time Complexity : O(V + E)**"
   ]
  },
  {
   "cell_type": "markdown",
   "metadata": {
    "id": "pDe4lPHwn3Gi"
   },
   "source": [
    "**Breadth First Search Implementation**\n",
    "\n",
    "**Used Data Structure : Queue**"
   ]
  },
  {
   "cell_type": "code",
   "execution_count": 1,
   "metadata": {
    "colab": {
     "base_uri": "https://localhost:8080/"
    },
    "id": "8beCDbn8nkpR",
    "outputId": "e3dc7501-6bfa-4a8c-e280-017a7bd27e34"
   },
   "outputs": [
    {
     "name": "stdout",
     "output_type": "stream",
     "text": [
      "A B C D E F G "
     ]
    }
   ],
   "source": [
    "## Graph Representation\n",
    "graph = {\n",
    "    'A' : ['B','C','D'],\n",
    "    'B' : ['E'],\n",
    "    'C' : ['E', 'F'],\n",
    "    'D' : ['F'],\n",
    "    'E' : ['G'],\n",
    "    'F' : ['G'],\n",
    "    'G' : []\n",
    "}\n",
    "\n",
    "## visited set is to keep track of visited nodes\n",
    "visited = set()\n",
    "## Queue is used for the implementation of BFS\n",
    "from collections import deque\n",
    "queue = deque()\n",
    "\n",
    "## Method Definition\n",
    "def breadth_first_search(visited, graph, node):\n",
    "  visited.add(node)\n",
    "  queue.appendleft(node)\n",
    "\n",
    "  while queue:\n",
    "    node = queue.pop() \n",
    "    print (node, end = \" \") \n",
    "\n",
    "    for neighbour in graph[node]:\n",
    "      if neighbour not in visited:\n",
    "        visited.add(neighbour)\n",
    "        queue.appendleft(neighbour)\n",
    "\n",
    "## Driver Code\n",
    "## Function Call\n",
    "breadth_first_search(visited, graph, 'A')"
   ]
  },
  {
   "cell_type": "markdown",
   "metadata": {
    "id": "qAsdHjQxq9M3"
   },
   "source": [
    "**Time Complexity : O(V + E)**"
   ]
  },
  {
   "cell_type": "code",
   "execution_count": 3,
   "metadata": {},
   "outputs": [
    {
     "name": "stdout",
     "output_type": "stream",
     "text": [
      "/home/meta-sapien\n"
     ]
    }
   ],
   "source": [
    "cd ../"
   ]
  },
  {
   "cell_type": "code",
   "execution_count": 5,
   "metadata": {},
   "outputs": [
    {
     "name": "stdout",
     "output_type": "stream",
     "text": [
      "/home/meta-sapien/ineuron\n"
     ]
    }
   ],
   "source": [
    "cd ineuron"
   ]
  },
  {
   "cell_type": "code",
   "execution_count": 6,
   "metadata": {},
   "outputs": [
    {
     "name": "stdout",
     "output_type": "stream",
     "text": [
      "array_archive.npz  \u001b[0m\u001b[01;34mkaggle\u001b[0m/        Pandas_ineuron.ipynb  test.csv\r\n",
      "array_ofint.npy    \u001b[01;34mMatplotlib\u001b[0m/    Pandas.ipynb          \u001b[01;34mTime-Series\u001b[0m/\r\n",
      "\u001b[01;34mDSA\u001b[0m/               NumPy.ipynb    players.csv           WebScraper.ipynb\r\n",
      "flask.ipynb        \u001b[01;34mPandas\u001b[0m/        result.csv\r\n",
      "html_data0.csv     PANDAS2.ipynb  RomeoAndJuliet.txt\r\n"
     ]
    }
   ],
   "source": [
    "ls"
   ]
  },
  {
   "cell_type": "code",
   "execution_count": 7,
   "metadata": {},
   "outputs": [
    {
     "name": "stdout",
     "output_type": "stream",
     "text": [
      "/home/meta-sapien/ineuron/DSA\n"
     ]
    }
   ],
   "source": [
    "cd DSA"
   ]
  },
  {
   "cell_type": "code",
   "execution_count": null,
   "metadata": {},
   "outputs": [],
   "source": []
  }
 ],
 "metadata": {
  "colab": {
   "name": "Graph Traversal.ipynb",
   "provenance": []
  },
  "kernelspec": {
   "display_name": "Python 3 (ipykernel)",
   "language": "python",
   "name": "python3"
  },
  "language_info": {
   "codemirror_mode": {
    "name": "ipython",
    "version": 3
   },
   "file_extension": ".py",
   "mimetype": "text/x-python",
   "name": "python",
   "nbconvert_exporter": "python",
   "pygments_lexer": "ipython3",
   "version": "3.9.7"
  }
 },
 "nbformat": 4,
 "nbformat_minor": 1
}
