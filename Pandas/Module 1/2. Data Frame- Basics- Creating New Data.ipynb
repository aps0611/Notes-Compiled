{
 "cells": [
  {
   "cell_type": "markdown",
   "id": "2cce2b93",
   "metadata": {},
   "source": [
    "# DataFrame"
   ]
  },
  {
   "cell_type": "markdown",
   "id": "bfbfb611",
   "metadata": {},
   "source": [
    "#### A DataFrame represents a tabular, spreadsheet-like data structure containing an ordered collection of columns, each of which can be a different value type. It has both row and column index. It can be thought of as dictionary of series. Row oriented and column oriented operations are treated symmetrically. "
   ]
  },
  {
   "cell_type": "markdown",
   "id": "17c38ca1",
   "metadata": {},
   "source": [
    "#### Data is stored as 1D or 2D blocks rather than list or dictionary. Higher dimensions are also possible using heirarchical structure. "
   ]
  },
  {
   "cell_type": "markdown",
   "id": "4ce4a2ba",
   "metadata": {},
   "source": [
    "columns in data frame = series and colums + columns (i.e addition of series) = DF (Analogy)"
   ]
  },
  {
   "cell_type": "code",
   "execution_count": 5,
   "id": "01cb5cb4",
   "metadata": {},
   "outputs": [],
   "source": [
    "#Constructing the DataFrame:"
   ]
  },
  {
   "cell_type": "code",
   "execution_count": 8,
   "id": "77b2ba54",
   "metadata": {},
   "outputs": [],
   "source": [
    "import pandas as  pd\n",
    "from pandas import DataFrame"
   ]
  },
  {
   "cell_type": "code",
   "execution_count": 9,
   "id": "96356ef9",
   "metadata": {},
   "outputs": [],
   "source": [
    "data = {'state' : ['Mah', 'UP', 'MP', 'Kar', 'TN', 'Naga'],\n",
    "       'year': [1960, 1947, 1990, 1995, 2000, 1962],\n",
    "        'pop': [1.1,1.2,1.6,1.1,1.0,2.0]}\n",
    "frame = DataFrame(data)"
   ]
  },
  {
   "cell_type": "markdown",
   "id": "9961189d",
   "metadata": {},
   "source": [
    "We are using the pd.DataFrame() constructor to generate these DataFrame objects. The syntax for declaring a new one is a dictionary whose keys are the column names and whose values are a list of entries."
   ]
  },
  {
   "cell_type": "code",
   "execution_count": 10,
   "id": "37c03248",
   "metadata": {},
   "outputs": [
    {
     "data": {
      "text/html": [
       "<div>\n",
       "<style scoped>\n",
       "    .dataframe tbody tr th:only-of-type {\n",
       "        vertical-align: middle;\n",
       "    }\n",
       "\n",
       "    .dataframe tbody tr th {\n",
       "        vertical-align: top;\n",
       "    }\n",
       "\n",
       "    .dataframe thead th {\n",
       "        text-align: right;\n",
       "    }\n",
       "</style>\n",
       "<table border=\"1\" class=\"dataframe\">\n",
       "  <thead>\n",
       "    <tr style=\"text-align: right;\">\n",
       "      <th></th>\n",
       "      <th>state</th>\n",
       "      <th>year</th>\n",
       "      <th>pop</th>\n",
       "    </tr>\n",
       "  </thead>\n",
       "  <tbody>\n",
       "    <tr>\n",
       "      <th>0</th>\n",
       "      <td>Mah</td>\n",
       "      <td>1960</td>\n",
       "      <td>1.1</td>\n",
       "    </tr>\n",
       "    <tr>\n",
       "      <th>1</th>\n",
       "      <td>UP</td>\n",
       "      <td>1947</td>\n",
       "      <td>1.2</td>\n",
       "    </tr>\n",
       "    <tr>\n",
       "      <th>2</th>\n",
       "      <td>MP</td>\n",
       "      <td>1990</td>\n",
       "      <td>1.6</td>\n",
       "    </tr>\n",
       "    <tr>\n",
       "      <th>3</th>\n",
       "      <td>Kar</td>\n",
       "      <td>1995</td>\n",
       "      <td>1.1</td>\n",
       "    </tr>\n",
       "    <tr>\n",
       "      <th>4</th>\n",
       "      <td>TN</td>\n",
       "      <td>2000</td>\n",
       "      <td>1.0</td>\n",
       "    </tr>\n",
       "    <tr>\n",
       "      <th>5</th>\n",
       "      <td>Naga</td>\n",
       "      <td>1962</td>\n",
       "      <td>2.0</td>\n",
       "    </tr>\n",
       "  </tbody>\n",
       "</table>\n",
       "</div>"
      ],
      "text/plain": [
       "  state  year  pop\n",
       "0   Mah  1960  1.1\n",
       "1    UP  1947  1.2\n",
       "2    MP  1990  1.6\n",
       "3   Kar  1995  1.1\n",
       "4    TN  2000  1.0\n",
       "5  Naga  1962  2.0"
      ]
     },
     "execution_count": 10,
     "metadata": {},
     "output_type": "execute_result"
    }
   ],
   "source": [
    "frame"
   ]
  },
  {
   "cell_type": "markdown",
   "id": "2d4951cf",
   "metadata": {},
   "source": [
    "The dictionary-list constructor assigns values to the column labels, but just uses an ascending count from 0 to n-1"
   ]
  },
  {
   "cell_type": "markdown",
   "id": "93c6e9f2",
   "metadata": {},
   "source": [
    "We can also change the index labels:"
   ]
  },
  {
   "cell_type": "code",
   "execution_count": 11,
   "id": "5bea5eac",
   "metadata": {},
   "outputs": [
    {
     "data": {
      "text/html": [
       "<div>\n",
       "<style scoped>\n",
       "    .dataframe tbody tr th:only-of-type {\n",
       "        vertical-align: middle;\n",
       "    }\n",
       "\n",
       "    .dataframe tbody tr th {\n",
       "        vertical-align: top;\n",
       "    }\n",
       "\n",
       "    .dataframe thead th {\n",
       "        text-align: right;\n",
       "    }\n",
       "</style>\n",
       "<table border=\"1\" class=\"dataframe\">\n",
       "  <thead>\n",
       "    <tr style=\"text-align: right;\">\n",
       "      <th></th>\n",
       "      <th>state</th>\n",
       "      <th>year</th>\n",
       "      <th>pop</th>\n",
       "    </tr>\n",
       "  </thead>\n",
       "  <tbody>\n",
       "    <tr>\n",
       "      <th>state1</th>\n",
       "      <td>Mah</td>\n",
       "      <td>1960</td>\n",
       "      <td>1.1</td>\n",
       "    </tr>\n",
       "    <tr>\n",
       "      <th>state2</th>\n",
       "      <td>UP</td>\n",
       "      <td>1947</td>\n",
       "      <td>1.2</td>\n",
       "    </tr>\n",
       "    <tr>\n",
       "      <th>state3</th>\n",
       "      <td>MP</td>\n",
       "      <td>1990</td>\n",
       "      <td>1.6</td>\n",
       "    </tr>\n",
       "    <tr>\n",
       "      <th>state4</th>\n",
       "      <td>Kar</td>\n",
       "      <td>1995</td>\n",
       "      <td>1.1</td>\n",
       "    </tr>\n",
       "    <tr>\n",
       "      <th>state5</th>\n",
       "      <td>TN</td>\n",
       "      <td>2000</td>\n",
       "      <td>1.0</td>\n",
       "    </tr>\n",
       "    <tr>\n",
       "      <th>state6</th>\n",
       "      <td>Naga</td>\n",
       "      <td>1962</td>\n",
       "      <td>2.0</td>\n",
       "    </tr>\n",
       "  </tbody>\n",
       "</table>\n",
       "</div>"
      ],
      "text/plain": [
       "       state  year  pop\n",
       "state1   Mah  1960  1.1\n",
       "state2    UP  1947  1.2\n",
       "state3    MP  1990  1.6\n",
       "state4   Kar  1995  1.1\n",
       "state5    TN  2000  1.0\n",
       "state6  Naga  1962  2.0"
      ]
     },
     "execution_count": 11,
     "metadata": {},
     "output_type": "execute_result"
    }
   ],
   "source": [
    "pd.DataFrame({'state' : ['Mah', 'UP', 'MP', 'Kar', 'TN', 'Naga'],\n",
    "       'year': [1960, 1947, 1990, 1995, 2000, 1962],\n",
    "        'pop': [1.1,1.2,1.6,1.1,1.0,2.0]}, index = ['state1','state2','state3','state4','state5','state6'])"
   ]
  },
  {
   "cell_type": "markdown",
   "id": "8ef3517d",
   "metadata": {},
   "source": [
    "#Pass a column that is not appearing in data and it will return NaN"
   ]
  },
  {
   "cell_type": "markdown",
   "id": "f8843e1e",
   "metadata": {},
   "source": [
    "Recall that series does not have column name but have only overall name. While in Pandas we have index and column name"
   ]
  },
  {
   "cell_type": "markdown",
   "id": "2728d383",
   "metadata": {},
   "source": [
    "checking the dimensions:"
   ]
  },
  {
   "cell_type": "code",
   "execution_count": 17,
   "id": "28728897",
   "metadata": {},
   "outputs": [
    {
     "data": {
      "text/plain": [
       "(6, 3)"
      ]
     },
     "execution_count": 17,
     "metadata": {},
     "output_type": "execute_result"
    }
   ],
   "source": [
    "frame.shape "
   ]
  },
  {
   "cell_type": "code",
   "execution_count": 18,
   "id": "bfa0885d",
   "metadata": {},
   "outputs": [],
   "source": [
    "rows, columns = frame.shape"
   ]
  },
  {
   "cell_type": "code",
   "execution_count": 48,
   "id": "0bbb7add",
   "metadata": {},
   "outputs": [
    {
     "data": {
      "text/plain": [
       "6"
      ]
     },
     "execution_count": 48,
     "metadata": {},
     "output_type": "execute_result"
    }
   ],
   "source": [
    "rows"
   ]
  },
  {
   "cell_type": "code",
   "execution_count": 49,
   "id": "9f2552dd",
   "metadata": {},
   "outputs": [
    {
     "data": {
      "text/plain": [
       "3"
      ]
     },
     "execution_count": 49,
     "metadata": {},
     "output_type": "execute_result"
    }
   ],
   "source": [
    "columns"
   ]
  },
  {
   "cell_type": "markdown",
   "id": "f8884750",
   "metadata": {},
   "source": [
    "# Retrieving Columns using Indexing:"
   ]
  },
  {
   "cell_type": "code",
   "execution_count": 45,
   "id": "bbfeb3a6",
   "metadata": {},
   "outputs": [
    {
     "data": {
      "text/plain": [
       "Index(['state', 'year', 'pop'], dtype='object')"
      ]
     },
     "execution_count": 45,
     "metadata": {},
     "output_type": "execute_result"
    }
   ],
   "source": [
    "frame.columns"
   ]
  },
  {
   "cell_type": "code",
   "execution_count": 46,
   "id": "95d05197",
   "metadata": {},
   "outputs": [
    {
     "data": {
      "text/html": [
       "<div>\n",
       "<style scoped>\n",
       "    .dataframe tbody tr th:only-of-type {\n",
       "        vertical-align: middle;\n",
       "    }\n",
       "\n",
       "    .dataframe tbody tr th {\n",
       "        vertical-align: top;\n",
       "    }\n",
       "\n",
       "    .dataframe thead th {\n",
       "        text-align: right;\n",
       "    }\n",
       "</style>\n",
       "<table border=\"1\" class=\"dataframe\">\n",
       "  <thead>\n",
       "    <tr style=\"text-align: right;\">\n",
       "      <th></th>\n",
       "      <th>year</th>\n",
       "      <th>state</th>\n",
       "    </tr>\n",
       "  </thead>\n",
       "  <tbody>\n",
       "    <tr>\n",
       "      <th>a</th>\n",
       "      <td>1960</td>\n",
       "      <td>Mah</td>\n",
       "    </tr>\n",
       "    <tr>\n",
       "      <th>b</th>\n",
       "      <td>1947</td>\n",
       "      <td>UP</td>\n",
       "    </tr>\n",
       "    <tr>\n",
       "      <th>c</th>\n",
       "      <td>1990</td>\n",
       "      <td>MP</td>\n",
       "    </tr>\n",
       "    <tr>\n",
       "      <th>d</th>\n",
       "      <td>1995</td>\n",
       "      <td>Kar</td>\n",
       "    </tr>\n",
       "    <tr>\n",
       "      <th>e</th>\n",
       "      <td>2000</td>\n",
       "      <td>TN</td>\n",
       "    </tr>\n",
       "    <tr>\n",
       "      <th>f</th>\n",
       "      <td>1962</td>\n",
       "      <td>Naga</td>\n",
       "    </tr>\n",
       "  </tbody>\n",
       "</table>\n",
       "</div>"
      ],
      "text/plain": [
       "   year state\n",
       "a  1960   Mah\n",
       "b  1947    UP\n",
       "c  1990    MP\n",
       "d  1995   Kar\n",
       "e  2000    TN\n",
       "f  1962  Naga"
      ]
     },
     "execution_count": 46,
     "metadata": {},
     "output_type": "execute_result"
    }
   ],
   "source": [
    "frame[['year','state']]"
   ]
  },
  {
   "cell_type": "code",
   "execution_count": 28,
   "id": "4c3fe018",
   "metadata": {},
   "outputs": [
    {
     "data": {
      "text/plain": [
       "0    1960\n",
       "1    1947\n",
       "2    1990\n",
       "3    1995\n",
       "4    2000\n",
       "5    1962\n",
       "Name: year, dtype: int64"
      ]
     },
     "execution_count": 28,
     "metadata": {},
     "output_type": "execute_result"
    }
   ],
   "source": [
    "frame['year']"
   ]
  },
  {
   "cell_type": "code",
   "execution_count": 44,
   "id": "fd79440d",
   "metadata": {},
   "outputs": [
    {
     "data": {
      "text/plain": [
       "a    1960\n",
       "b    1947\n",
       "c    1990\n",
       "d    1995\n",
       "e    2000\n",
       "f    1962\n",
       "Name: year, dtype: int64"
      ]
     },
     "execution_count": 44,
     "metadata": {},
     "output_type": "execute_result"
    }
   ],
   "source": [
    "frame.year #use any one syntax"
   ]
  },
  {
   "cell_type": "markdown",
   "id": "a5ae2bee",
   "metadata": {},
   "source": [
    "# Retriving rows:"
   ]
  },
  {
   "cell_type": "code",
   "execution_count": 29,
   "id": "efa1799c",
   "metadata": {},
   "outputs": [
    {
     "data": {
      "text/html": [
       "<div>\n",
       "<style scoped>\n",
       "    .dataframe tbody tr th:only-of-type {\n",
       "        vertical-align: middle;\n",
       "    }\n",
       "\n",
       "    .dataframe tbody tr th {\n",
       "        vertical-align: top;\n",
       "    }\n",
       "\n",
       "    .dataframe thead th {\n",
       "        text-align: right;\n",
       "    }\n",
       "</style>\n",
       "<table border=\"1\" class=\"dataframe\">\n",
       "  <thead>\n",
       "    <tr style=\"text-align: right;\">\n",
       "      <th></th>\n",
       "      <th>state</th>\n",
       "      <th>year</th>\n",
       "      <th>pop</th>\n",
       "    </tr>\n",
       "  </thead>\n",
       "  <tbody>\n",
       "    <tr>\n",
       "      <th>0</th>\n",
       "      <td>Mah</td>\n",
       "      <td>1960</td>\n",
       "      <td>1.1</td>\n",
       "    </tr>\n",
       "  </tbody>\n",
       "</table>\n",
       "</div>"
      ],
      "text/plain": [
       "  state  year  pop\n",
       "0   Mah  1960  1.1"
      ]
     },
     "execution_count": 29,
     "metadata": {},
     "output_type": "execute_result"
    }
   ],
   "source": [
    "frame.loc[frame['year']==1960]"
   ]
  },
  {
   "cell_type": "code",
   "execution_count": 36,
   "id": "91ad119f",
   "metadata": {},
   "outputs": [],
   "source": [
    "frame.index = ['a','b','c','d','e','f']"
   ]
  },
  {
   "cell_type": "code",
   "execution_count": 39,
   "id": "eb858d94",
   "metadata": {},
   "outputs": [
    {
     "data": {
      "text/plain": [
       "state     Mah\n",
       "year     1960\n",
       "pop       1.1\n",
       "Name: a, dtype: object"
      ]
     },
     "execution_count": 39,
     "metadata": {},
     "output_type": "execute_result"
    }
   ],
   "source": [
    "frame.loc['a'] #Using indexing if we have specified any particular index to our frame"
   ]
  },
  {
   "cell_type": "code",
   "execution_count": null,
   "id": "2a3b9d24",
   "metadata": {},
   "outputs": [],
   "source": []
  },
  {
   "cell_type": "code",
   "execution_count": null,
   "id": "dbba93f7",
   "metadata": {},
   "outputs": [],
   "source": []
  },
  {
   "cell_type": "code",
   "execution_count": null,
   "id": "4ef51c04",
   "metadata": {},
   "outputs": [],
   "source": []
  },
  {
   "cell_type": "code",
   "execution_count": null,
   "id": "715eb77c",
   "metadata": {},
   "outputs": [],
   "source": []
  }
 ],
 "metadata": {
  "kernelspec": {
   "display_name": "Python 3 (ipykernel)",
   "language": "python",
   "name": "python3"
  },
  "language_info": {
   "codemirror_mode": {
    "name": "ipython",
    "version": 3
   },
   "file_extension": ".py",
   "mimetype": "text/x-python",
   "name": "python",
   "nbconvert_exporter": "python",
   "pygments_lexer": "ipython3",
   "version": "3.9.7"
  }
 },
 "nbformat": 4,
 "nbformat_minor": 5
}
