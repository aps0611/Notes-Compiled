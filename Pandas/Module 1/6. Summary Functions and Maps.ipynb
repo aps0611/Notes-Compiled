{
 "cells": [
  {
   "cell_type": "markdown",
   "id": "990018e0",
   "metadata": {},
   "source": [
    " The data does not always come out of memory in the format we want it. This notebook covers the operations that we need to doo just to make our data RIGHT!"
   ]
  },
  {
   "cell_type": "code",
   "execution_count": 3,
   "id": "4e2ab5fb",
   "metadata": {},
   "outputs": [],
   "source": [
    "import pandas as pd"
   ]
  },
  {
   "cell_type": "code",
   "execution_count": 8,
   "id": "7bda29d1",
   "metadata": {},
   "outputs": [
    {
     "data": {
      "text/html": [
       "<div>\n",
       "<style scoped>\n",
       "    .dataframe tbody tr th:only-of-type {\n",
       "        vertical-align: middle;\n",
       "    }\n",
       "\n",
       "    .dataframe tbody tr th {\n",
       "        vertical-align: top;\n",
       "    }\n",
       "\n",
       "    .dataframe thead th {\n",
       "        text-align: right;\n",
       "    }\n",
       "</style>\n",
       "<table border=\"1\" class=\"dataframe\">\n",
       "  <thead>\n",
       "    <tr style=\"text-align: right;\">\n",
       "      <th></th>\n",
       "      <th>Brand</th>\n",
       "      <th>Year</th>\n",
       "      <th>Kms Driven</th>\n",
       "      <th>City</th>\n",
       "      <th>Mileage</th>\n",
       "    </tr>\n",
       "  </thead>\n",
       "  <tbody>\n",
       "    <tr>\n",
       "      <th>0</th>\n",
       "      <td>Maruti</td>\n",
       "      <td>NaN</td>\n",
       "      <td>50000</td>\n",
       "      <td>Gurgaon</td>\n",
       "      <td>28</td>\n",
       "    </tr>\n",
       "    <tr>\n",
       "      <th>1</th>\n",
       "      <td>Hyundai</td>\n",
       "      <td>2014.0</td>\n",
       "      <td>30000</td>\n",
       "      <td>Delhi</td>\n",
       "      <td>27</td>\n",
       "    </tr>\n",
       "    <tr>\n",
       "      <th>2</th>\n",
       "      <td>Tata</td>\n",
       "      <td>NaN</td>\n",
       "      <td>60000</td>\n",
       "      <td>NaN</td>\n",
       "      <td>25</td>\n",
       "    </tr>\n",
       "  </tbody>\n",
       "</table>\n",
       "</div>"
      ],
      "text/plain": [
       "     Brand    Year  Kms Driven     City  Mileage\n",
       "0   Maruti     NaN       50000  Gurgaon       28\n",
       "1  Hyundai  2014.0       30000    Delhi       27\n",
       "2     Tata     NaN       60000      NaN       25"
      ]
     },
     "execution_count": 8,
     "metadata": {},
     "output_type": "execute_result"
    }
   ],
   "source": [
    "data = pd.read_csv('new.csv')\n",
    "data.head(3)"
   ]
  },
  {
   "cell_type": "markdown",
   "id": "5cdcda60",
   "metadata": {},
   "source": [
    "# Summary Functions:"
   ]
  },
  {
   "cell_type": "code",
   "execution_count": 9,
   "id": "44aca5a4",
   "metadata": {},
   "outputs": [
    {
     "data": {
      "text/plain": [
       "count     9.000000\n",
       "mean     25.777778\n",
       "std       2.538591\n",
       "min      21.000000\n",
       "25%      24.000000\n",
       "50%      26.000000\n",
       "75%      28.000000\n",
       "max      29.000000\n",
       "Name: Mileage, dtype: float64"
      ]
     },
     "execution_count": 9,
     "metadata": {},
     "output_type": "execute_result"
    }
   ],
   "source": [
    "data.Mileage.describe()"
   ]
  },
  {
   "cell_type": "code",
   "execution_count": 10,
   "id": "5f135a4c",
   "metadata": {},
   "outputs": [
    {
     "data": {
      "text/plain": [
       "count          9\n",
       "unique         5\n",
       "top       Maruti\n",
       "freq           3\n",
       "Name: Brand, dtype: object"
      ]
     },
     "execution_count": 10,
     "metadata": {},
     "output_type": "execute_result"
    }
   ],
   "source": [
    "data.Brand.describe() #simple summary statistic"
   ]
  },
  {
   "cell_type": "code",
   "execution_count": 11,
   "id": "6959ad93",
   "metadata": {},
   "outputs": [
    {
     "data": {
      "text/plain": [
       "array(['Gurgaon', 'Delhi', nan, 'Ghaziabad'], dtype=object)"
      ]
     },
     "execution_count": 11,
     "metadata": {},
     "output_type": "execute_result"
    }
   ],
   "source": [
    "data.City.unique() #To see a list of unique values"
   ]
  },
  {
   "cell_type": "code",
   "execution_count": 12,
   "id": "b7809234",
   "metadata": {},
   "outputs": [
    {
     "data": {
      "text/plain": [
       "Delhi        3\n",
       "Gurgaon      1\n",
       "Ghaziabad    1\n",
       "Name: City, dtype: int64"
      ]
     },
     "execution_count": 12,
     "metadata": {},
     "output_type": "execute_result"
    }
   ],
   "source": [
    "data.City.value_counts() #how often they occur in the dataset"
   ]
  },
  {
   "cell_type": "code",
   "execution_count": 13,
   "id": "a9febdf5",
   "metadata": {},
   "outputs": [
    {
     "data": {
      "text/html": [
       "<div>\n",
       "<style scoped>\n",
       "    .dataframe tbody tr th:only-of-type {\n",
       "        vertical-align: middle;\n",
       "    }\n",
       "\n",
       "    .dataframe tbody tr th {\n",
       "        vertical-align: top;\n",
       "    }\n",
       "\n",
       "    .dataframe thead th {\n",
       "        text-align: right;\n",
       "    }\n",
       "</style>\n",
       "<table border=\"1\" class=\"dataframe\">\n",
       "  <thead>\n",
       "    <tr style=\"text-align: right;\">\n",
       "      <th></th>\n",
       "      <th>Year</th>\n",
       "      <th>Kms Driven</th>\n",
       "      <th>Mileage</th>\n",
       "    </tr>\n",
       "  </thead>\n",
       "  <tbody>\n",
       "    <tr>\n",
       "      <th>count</th>\n",
       "      <td>6.000000</td>\n",
       "      <td>9.000000</td>\n",
       "      <td>9.000000</td>\n",
       "    </tr>\n",
       "    <tr>\n",
       "      <th>mean</th>\n",
       "      <td>2016.000000</td>\n",
       "      <td>31000.000000</td>\n",
       "      <td>25.777778</td>\n",
       "    </tr>\n",
       "    <tr>\n",
       "      <th>std</th>\n",
       "      <td>2.097618</td>\n",
       "      <td>17755.280905</td>\n",
       "      <td>2.538591</td>\n",
       "    </tr>\n",
       "    <tr>\n",
       "      <th>min</th>\n",
       "      <td>2014.000000</td>\n",
       "      <td>10000.000000</td>\n",
       "      <td>21.000000</td>\n",
       "    </tr>\n",
       "    <tr>\n",
       "      <th>25%</th>\n",
       "      <td>2014.250000</td>\n",
       "      <td>15000.000000</td>\n",
       "      <td>24.000000</td>\n",
       "    </tr>\n",
       "    <tr>\n",
       "      <th>50%</th>\n",
       "      <td>2015.500000</td>\n",
       "      <td>30000.000000</td>\n",
       "      <td>26.000000</td>\n",
       "    </tr>\n",
       "    <tr>\n",
       "      <th>75%</th>\n",
       "      <td>2017.500000</td>\n",
       "      <td>46000.000000</td>\n",
       "      <td>28.000000</td>\n",
       "    </tr>\n",
       "    <tr>\n",
       "      <th>max</th>\n",
       "      <td>2019.000000</td>\n",
       "      <td>60000.000000</td>\n",
       "      <td>29.000000</td>\n",
       "    </tr>\n",
       "  </tbody>\n",
       "</table>\n",
       "</div>"
      ],
      "text/plain": [
       "              Year    Kms Driven    Mileage\n",
       "count     6.000000      9.000000   9.000000\n",
       "mean   2016.000000  31000.000000  25.777778\n",
       "std       2.097618  17755.280905   2.538591\n",
       "min    2014.000000  10000.000000  21.000000\n",
       "25%    2014.250000  15000.000000  24.000000\n",
       "50%    2015.500000  30000.000000  26.000000\n",
       "75%    2017.500000  46000.000000  28.000000\n",
       "max    2019.000000  60000.000000  29.000000"
      ]
     },
     "execution_count": 13,
     "metadata": {},
     "output_type": "execute_result"
    }
   ],
   "source": [
    "data.describe() #Summary Statistics"
   ]
  },
  {
   "cell_type": "code",
   "execution_count": null,
   "id": "aff9b0c3",
   "metadata": {},
   "outputs": [],
   "source": []
  },
  {
   "cell_type": "markdown",
   "id": "f972fabf",
   "metadata": {},
   "source": [
    "# MAPS"
   ]
  },
  {
   "cell_type": "markdown",
   "id": "60a61eef",
   "metadata": {},
   "source": [
    " In data science we often have a need for creating new representations from existing data, or for transforming data from the format it is in now to the format that we want it to be in later. Maps are what handle this work, making them extremely important for getting your work done!"
   ]
  },
  {
   "cell_type": "markdown",
   "id": "0a71c697",
   "metadata": {},
   "source": [
    "There are two mapping functions which are frequently used:\n",
    "    \n",
    "    1. map():\n",
    "    2. apply():"
   ]
  },
  {
   "cell_type": "markdown",
   "id": "49077828",
   "metadata": {},
   "source": [
    "The function you pass to map() should expect a single value from the Series (a point value, in the above example), and return a transformed version of that value. map() returns a new Series where all the values have been transformed by your function."
   ]
  },
  {
   "cell_type": "code",
   "execution_count": 17,
   "id": "db4ff3a7",
   "metadata": {},
   "outputs": [
    {
     "data": {
      "text/plain": [
       "25.77777777777778"
      ]
     },
     "execution_count": 17,
     "metadata": {},
     "output_type": "execute_result"
    }
   ],
   "source": [
    "mileage_mean = data.Mileage.mean()\n",
    "mileage_mean"
   ]
  },
  {
   "cell_type": "code",
   "execution_count": 19,
   "id": "c1ae2f53",
   "metadata": {},
   "outputs": [
    {
     "data": {
      "text/plain": [
       "0    2.222222\n",
       "1    1.222222\n",
       "2   -0.777778\n",
       "3    0.222222\n",
       "4    2.222222\n",
       "5    3.222222\n",
       "6   -1.777778\n",
       "7   -4.777778\n",
       "8   -1.777778\n",
       "Name: Mileage, dtype: float64"
      ]
     },
     "execution_count": 19,
     "metadata": {},
     "output_type": "execute_result"
    }
   ],
   "source": [
    "data.Mileage.map(lambda p:p - mileage_mean)\n",
    "#It tansforms Mileage in data in form mileage - mean mileage"
   ]
  },
  {
   "cell_type": "markdown",
   "id": "cc549c32",
   "metadata": {},
   "source": [
    "1. apply() transforms the whole DataFrame by calling a custom method on each row.\n",
    "2. map() transforms the single series or column to say"
   ]
  },
  {
   "cell_type": "code",
   "execution_count": 21,
   "id": "8f02e731",
   "metadata": {},
   "outputs": [
    {
     "data": {
      "text/html": [
       "<div>\n",
       "<style scoped>\n",
       "    .dataframe tbody tr th:only-of-type {\n",
       "        vertical-align: middle;\n",
       "    }\n",
       "\n",
       "    .dataframe tbody tr th {\n",
       "        vertical-align: top;\n",
       "    }\n",
       "\n",
       "    .dataframe thead th {\n",
       "        text-align: right;\n",
       "    }\n",
       "</style>\n",
       "<table border=\"1\" class=\"dataframe\">\n",
       "  <thead>\n",
       "    <tr style=\"text-align: right;\">\n",
       "      <th></th>\n",
       "      <th>Brand</th>\n",
       "      <th>Year</th>\n",
       "      <th>Kms Driven</th>\n",
       "      <th>City</th>\n",
       "      <th>Mileage</th>\n",
       "    </tr>\n",
       "  </thead>\n",
       "  <tbody>\n",
       "    <tr>\n",
       "      <th>0</th>\n",
       "      <td>Maruti</td>\n",
       "      <td>NaN</td>\n",
       "      <td>50000</td>\n",
       "      <td>Gurgaon</td>\n",
       "      <td>2.222222</td>\n",
       "    </tr>\n",
       "    <tr>\n",
       "      <th>1</th>\n",
       "      <td>Hyundai</td>\n",
       "      <td>2014.0</td>\n",
       "      <td>30000</td>\n",
       "      <td>Delhi</td>\n",
       "      <td>1.222222</td>\n",
       "    </tr>\n",
       "    <tr>\n",
       "      <th>2</th>\n",
       "      <td>Tata</td>\n",
       "      <td>NaN</td>\n",
       "      <td>60000</td>\n",
       "      <td>NaN</td>\n",
       "      <td>-0.777778</td>\n",
       "    </tr>\n",
       "    <tr>\n",
       "      <th>3</th>\n",
       "      <td>Mahindra</td>\n",
       "      <td>2015.0</td>\n",
       "      <td>25000</td>\n",
       "      <td>Delhi</td>\n",
       "      <td>0.222222</td>\n",
       "    </tr>\n",
       "    <tr>\n",
       "      <th>4</th>\n",
       "      <td>Maruti</td>\n",
       "      <td>NaN</td>\n",
       "      <td>10000</td>\n",
       "      <td>NaN</td>\n",
       "      <td>2.222222</td>\n",
       "    </tr>\n",
       "    <tr>\n",
       "      <th>5</th>\n",
       "      <td>Hyundai</td>\n",
       "      <td>2016.0</td>\n",
       "      <td>46000</td>\n",
       "      <td>Delhi</td>\n",
       "      <td>3.222222</td>\n",
       "    </tr>\n",
       "    <tr>\n",
       "      <th>6</th>\n",
       "      <td>Renault</td>\n",
       "      <td>2014.0</td>\n",
       "      <td>31000</td>\n",
       "      <td>NaN</td>\n",
       "      <td>-1.777778</td>\n",
       "    </tr>\n",
       "    <tr>\n",
       "      <th>7</th>\n",
       "      <td>Tata</td>\n",
       "      <td>2018.0</td>\n",
       "      <td>15000</td>\n",
       "      <td>NaN</td>\n",
       "      <td>-4.777778</td>\n",
       "    </tr>\n",
       "    <tr>\n",
       "      <th>8</th>\n",
       "      <td>Maruti</td>\n",
       "      <td>2019.0</td>\n",
       "      <td>12000</td>\n",
       "      <td>Ghaziabad</td>\n",
       "      <td>-1.777778</td>\n",
       "    </tr>\n",
       "  </tbody>\n",
       "</table>\n",
       "</div>"
      ],
      "text/plain": [
       "      Brand    Year  Kms Driven       City   Mileage\n",
       "0    Maruti     NaN       50000    Gurgaon  2.222222\n",
       "1   Hyundai  2014.0       30000      Delhi  1.222222\n",
       "2      Tata     NaN       60000        NaN -0.777778\n",
       "3  Mahindra  2015.0       25000      Delhi  0.222222\n",
       "4    Maruti     NaN       10000        NaN  2.222222\n",
       "5   Hyundai  2016.0       46000      Delhi  3.222222\n",
       "6   Renault  2014.0       31000        NaN -1.777778\n",
       "7      Tata  2018.0       15000        NaN -4.777778\n",
       "8    Maruti  2019.0       12000  Ghaziabad -1.777778"
      ]
     },
     "execution_count": 21,
     "metadata": {},
     "output_type": "execute_result"
    }
   ],
   "source": [
    "def remean_Mileage(row):\n",
    "    row.Mileage = row.Mileage - data.Mileage.mean()\n",
    "    return row\n",
    "\n",
    "data.apply(remean_Mileage, axis ='columns')"
   ]
  },
  {
   "cell_type": "markdown",
   "id": "becdf35e",
   "metadata": {},
   "source": [
    "### If we had called data.apply() with axis='index', then instead of passing a function to transform each row, we would need to give a function to transform each column."
   ]
  },
  {
   "cell_type": "markdown",
   "id": "d25ab4cb",
   "metadata": {},
   "source": [
    "Note that map() and apply() return new, transformed Series and DataFrames, respectively. They don't modify the original data they're called on. "
   ]
  },
  {
   "cell_type": "markdown",
   "id": "c9fc2926",
   "metadata": {},
   "source": [
    "More easy Way: of remean the Mileage:"
   ]
  },
  {
   "cell_type": "code",
   "execution_count": 22,
   "id": "076d4b87",
   "metadata": {},
   "outputs": [
    {
     "data": {
      "text/plain": [
       "0    2.222222\n",
       "1    1.222222\n",
       "2   -0.777778\n",
       "3    0.222222\n",
       "4    2.222222\n",
       "5    3.222222\n",
       "6   -1.777778\n",
       "7   -4.777778\n",
       "8   -1.777778\n",
       "Name: Mileage, dtype: float64"
      ]
     },
     "execution_count": 22,
     "metadata": {},
     "output_type": "execute_result"
    }
   ],
   "source": [
    "data.Mileage - data.Mileage.mean()"
   ]
  },
  {
   "cell_type": "code",
   "execution_count": 23,
   "id": "bc8e9958",
   "metadata": {},
   "outputs": [
    {
     "data": {
      "text/plain": [
       "0      Maruti-Gurgaon\n",
       "1       Hyundai-Delhi\n",
       "2                 NaN\n",
       "3      Mahindra-Delhi\n",
       "4                 NaN\n",
       "5       Hyundai-Delhi\n",
       "6                 NaN\n",
       "7                 NaN\n",
       "8    Maruti-Ghaziabad\n",
       "dtype: object"
      ]
     },
     "execution_count": 23,
     "metadata": {},
     "output_type": "execute_result"
    }
   ],
   "source": [
    "data.Brand + '-' + data.City #Concat"
   ]
  },
  {
   "cell_type": "code",
   "execution_count": null,
   "id": "294fd920",
   "metadata": {},
   "outputs": [],
   "source": []
  },
  {
   "cell_type": "code",
   "execution_count": 25,
   "id": "b93402cb",
   "metadata": {},
   "outputs": [
    {
     "data": {
      "text/plain": [
       "5"
      ]
     },
     "execution_count": 25,
     "metadata": {},
     "output_type": "execute_result"
    }
   ],
   "source": [
    "data.Mileage.idxmax() #Will return the index of Max in the given column"
   ]
  },
  {
   "cell_type": "code",
   "execution_count": 27,
   "id": "14cae65c",
   "metadata": {},
   "outputs": [
    {
     "data": {
      "text/plain": [
       "7"
      ]
     },
     "execution_count": 27,
     "metadata": {},
     "output_type": "execute_result"
    }
   ],
   "source": [
    "data.Mileage.idxmin() #Will return the index of Min in the given column"
   ]
  },
  {
   "cell_type": "code",
   "execution_count": null,
   "id": "b42d8619",
   "metadata": {},
   "outputs": [],
   "source": []
  },
  {
   "cell_type": "markdown",
   "id": "31dea390",
   "metadata": {},
   "source": [
    "# Question: Which is the best Mileage Car for Me?"
   ]
  },
  {
   "cell_type": "code",
   "execution_count": 29,
   "id": "f6155a3e",
   "metadata": {},
   "outputs": [],
   "source": [
    "data_id = data.Mileage.idxmax()\n",
    "data_id"
   ]
  },
  {
   "cell_type": "code",
   "execution_count": 31,
   "id": "044b5de5",
   "metadata": {},
   "outputs": [
    {
     "data": {
      "text/plain": [
       "'Hyundai'"
      ]
     },
     "execution_count": 31,
     "metadata": {},
     "output_type": "execute_result"
    }
   ],
   "source": [
    "car = data.loc[data_id,'Brand']\n",
    "car"
   ]
  },
  {
   "cell_type": "code",
   "execution_count": 37,
   "id": "e776cba5",
   "metadata": {},
   "outputs": [
    {
     "data": {
      "text/html": [
       "<div>\n",
       "<style scoped>\n",
       "    .dataframe tbody tr th:only-of-type {\n",
       "        vertical-align: middle;\n",
       "    }\n",
       "\n",
       "    .dataframe tbody tr th {\n",
       "        vertical-align: top;\n",
       "    }\n",
       "\n",
       "    .dataframe thead th {\n",
       "        text-align: right;\n",
       "    }\n",
       "</style>\n",
       "<table border=\"1\" class=\"dataframe\">\n",
       "  <thead>\n",
       "    <tr style=\"text-align: right;\">\n",
       "      <th></th>\n",
       "      <th>Brand</th>\n",
       "      <th>Year</th>\n",
       "      <th>Kms Driven</th>\n",
       "      <th>City</th>\n",
       "      <th>Mileage</th>\n",
       "    </tr>\n",
       "  </thead>\n",
       "  <tbody>\n",
       "    <tr>\n",
       "      <th>0</th>\n",
       "      <td>Maruti</td>\n",
       "      <td>NaN</td>\n",
       "      <td>50000</td>\n",
       "      <td>Gurgaon</td>\n",
       "      <td>28</td>\n",
       "    </tr>\n",
       "    <tr>\n",
       "      <th>1</th>\n",
       "      <td>Hyundai</td>\n",
       "      <td>2014.0</td>\n",
       "      <td>30000</td>\n",
       "      <td>Delhi</td>\n",
       "      <td>27</td>\n",
       "    </tr>\n",
       "    <tr>\n",
       "      <th>2</th>\n",
       "      <td>Tata</td>\n",
       "      <td>NaN</td>\n",
       "      <td>60000</td>\n",
       "      <td>NaN</td>\n",
       "      <td>25</td>\n",
       "    </tr>\n",
       "    <tr>\n",
       "      <th>3</th>\n",
       "      <td>Mahindra</td>\n",
       "      <td>2015.0</td>\n",
       "      <td>25000</td>\n",
       "      <td>Delhi</td>\n",
       "      <td>26</td>\n",
       "    </tr>\n",
       "    <tr>\n",
       "      <th>4</th>\n",
       "      <td>Maruti</td>\n",
       "      <td>NaN</td>\n",
       "      <td>10000</td>\n",
       "      <td>NaN</td>\n",
       "      <td>28</td>\n",
       "    </tr>\n",
       "    <tr>\n",
       "      <th>5</th>\n",
       "      <td>Hyundai</td>\n",
       "      <td>2016.0</td>\n",
       "      <td>46000</td>\n",
       "      <td>Delhi</td>\n",
       "      <td>29</td>\n",
       "    </tr>\n",
       "    <tr>\n",
       "      <th>6</th>\n",
       "      <td>Renault</td>\n",
       "      <td>2014.0</td>\n",
       "      <td>31000</td>\n",
       "      <td>NaN</td>\n",
       "      <td>24</td>\n",
       "    </tr>\n",
       "    <tr>\n",
       "      <th>7</th>\n",
       "      <td>Tata</td>\n",
       "      <td>2018.0</td>\n",
       "      <td>15000</td>\n",
       "      <td>NaN</td>\n",
       "      <td>21</td>\n",
       "    </tr>\n",
       "    <tr>\n",
       "      <th>8</th>\n",
       "      <td>Maruti</td>\n",
       "      <td>2019.0</td>\n",
       "      <td>12000</td>\n",
       "      <td>Ghaziabad</td>\n",
       "      <td>24</td>\n",
       "    </tr>\n",
       "  </tbody>\n",
       "</table>\n",
       "</div>"
      ],
      "text/plain": [
       "      Brand    Year  Kms Driven       City  Mileage\n",
       "0    Maruti     NaN       50000    Gurgaon       28\n",
       "1   Hyundai  2014.0       30000      Delhi       27\n",
       "2      Tata     NaN       60000        NaN       25\n",
       "3  Mahindra  2015.0       25000      Delhi       26\n",
       "4    Maruti     NaN       10000        NaN       28\n",
       "5   Hyundai  2016.0       46000      Delhi       29\n",
       "6   Renault  2014.0       31000        NaN       24\n",
       "7      Tata  2018.0       15000        NaN       21\n",
       "8    Maruti  2019.0       12000  Ghaziabad       24"
      ]
     },
     "execution_count": 37,
     "metadata": {},
     "output_type": "execute_result"
    }
   ],
   "source": [
    "data"
   ]
  },
  {
   "cell_type": "markdown",
   "id": "09982268",
   "metadata": {},
   "source": [
    "# Question: Create a Series that counts how many times the word Maruti and Tata appears in our City?"
   ]
  },
  {
   "cell_type": "code",
   "execution_count": 40,
   "id": "5bc49837",
   "metadata": {},
   "outputs": [
    {
     "data": {
      "text/plain": [
       "Maruti    3\n",
       "Tata      2\n",
       "dtype: int64"
      ]
     },
     "execution_count": 40,
     "metadata": {},
     "output_type": "execute_result"
    }
   ],
   "source": [
    "Maruti_count= data.Brand.map(lambda x: 'Maruti' in x).sum()\n",
    "Tata_count = data.Brand.map(lambda x: 'Tata' in x).sum()\n",
    "total_count = pd.Series([Maruti_count,Tata_count],index = ['Maruti','Tata'])\n",
    "total_count"
   ]
  },
  {
   "cell_type": "code",
   "execution_count": null,
   "id": "a36c25b5",
   "metadata": {},
   "outputs": [],
   "source": []
  }
 ],
 "metadata": {
  "kernelspec": {
   "display_name": "Python 3 (ipykernel)",
   "language": "python",
   "name": "python3"
  },
  "language_info": {
   "codemirror_mode": {
    "name": "ipython",
    "version": 3
   },
   "file_extension": ".py",
   "mimetype": "text/x-python",
   "name": "python",
   "nbconvert_exporter": "python",
   "pygments_lexer": "ipython3",
   "version": "3.9.7"
  }
 },
 "nbformat": 4,
 "nbformat_minor": 5
}
