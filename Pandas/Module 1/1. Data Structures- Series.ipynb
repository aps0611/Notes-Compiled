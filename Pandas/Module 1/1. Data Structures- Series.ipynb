{
 "cells": [
  {
   "cell_type": "markdown",
   "id": "46865cb3",
   "metadata": {},
   "source": [
    "# Module 1: Data Structure - Series"
   ]
  },
  {
   "cell_type": "code",
   "execution_count": 9,
   "id": "38eb3cde",
   "metadata": {},
   "outputs": [],
   "source": [
    "from pandas import Series, DataFrame #Imported them in local name space(ofcourse will be used a lot)"
   ]
  },
  {
   "cell_type": "code",
   "execution_count": 10,
   "id": "61107d3e",
   "metadata": {},
   "outputs": [],
   "source": [
    "import pandas as pd\n",
    "import numpy as np"
   ]
  },
  {
   "cell_type": "markdown",
   "id": "012f9f93",
   "metadata": {},
   "source": [
    "# Contents:\n",
    "    1. Series\n",
    "    2. Data_Frame"
   ]
  },
  {
   "cell_type": "markdown",
   "id": "e44fde3f",
   "metadata": {},
   "source": [
    "# 1. Series"
   ]
  },
  {
   "cell_type": "markdown",
   "id": "117b12e3",
   "metadata": {},
   "source": [
    "One dimensional array"
   ]
  },
  {
   "cell_type": "markdown",
   "id": "a4325cdc",
   "metadata": {},
   "source": [
    "NumPy Data Type"
   ]
  },
  {
   "cell_type": "markdown",
   "id": "3a1817be",
   "metadata": {},
   "source": [
    "Data labels called its index"
   ]
  },
  {
   "cell_type": "code",
   "execution_count": 16,
   "id": "db19d8a8",
   "metadata": {},
   "outputs": [],
   "source": [
    "obj = Series([1,2,4,5])"
   ]
  },
  {
   "cell_type": "markdown",
   "id": "69347fd2",
   "metadata": {},
   "source": [
    "#INDEX- DATA format"
   ]
  },
  {
   "cell_type": "code",
   "execution_count": 17,
   "id": "65f4aff2",
   "metadata": {},
   "outputs": [
    {
     "data": {
      "text/plain": [
       "0    1\n",
       "1    2\n",
       "2    4\n",
       "3    5\n",
       "dtype: int64"
      ]
     },
     "execution_count": 17,
     "metadata": {},
     "output_type": "execute_result"
    }
   ],
   "source": [
    "obj"
   ]
  },
  {
   "cell_type": "code",
   "execution_count": 18,
   "id": "8573b68f",
   "metadata": {},
   "outputs": [
    {
     "data": {
      "text/plain": [
       "array([1, 2, 4, 5])"
      ]
     },
     "execution_count": 18,
     "metadata": {},
     "output_type": "execute_result"
    }
   ],
   "source": [
    "obj.values"
   ]
  },
  {
   "cell_type": "code",
   "execution_count": 19,
   "id": "4d003217",
   "metadata": {},
   "outputs": [
    {
     "data": {
      "text/plain": [
       "RangeIndex(start=0, stop=4, step=1)"
      ]
     },
     "execution_count": 19,
     "metadata": {},
     "output_type": "execute_result"
    }
   ],
   "source": [
    "obj.index #Default Index starts from zero to N-1"
   ]
  },
  {
   "cell_type": "markdown",
   "id": "edaf8e8a",
   "metadata": {},
   "source": [
    "#Often its desirable to create any series with index:"
   ]
  },
  {
   "cell_type": "code",
   "execution_count": 23,
   "id": "500c31b3",
   "metadata": {},
   "outputs": [],
   "source": [
    "obj2 = Series([4,9,8,7], index = ['a','b','c','d'])"
   ]
  },
  {
   "cell_type": "code",
   "execution_count": 24,
   "id": "0b64b8c4",
   "metadata": {},
   "outputs": [
    {
     "data": {
      "text/plain": [
       "a    4\n",
       "b    9\n",
       "c    8\n",
       "d    7\n",
       "dtype: int64"
      ]
     },
     "execution_count": 24,
     "metadata": {},
     "output_type": "execute_result"
    }
   ],
   "source": [
    "obj2"
   ]
  },
  {
   "cell_type": "markdown",
   "id": "c6abdcb8",
   "metadata": {},
   "source": [
    "Indexing Operations:"
   ]
  },
  {
   "cell_type": "code",
   "execution_count": 26,
   "id": "4eec1faa",
   "metadata": {},
   "outputs": [
    {
     "data": {
      "text/plain": [
       "4"
      ]
     },
     "execution_count": 26,
     "metadata": {},
     "output_type": "execute_result"
    }
   ],
   "source": [
    "obj2['a']"
   ]
  },
  {
   "cell_type": "code",
   "execution_count": 27,
   "id": "6c2a48f2",
   "metadata": {},
   "outputs": [
    {
     "data": {
      "text/plain": [
       "b    9\n",
       "c    8\n",
       "d    7\n",
       "dtype: int64"
      ]
     },
     "execution_count": 27,
     "metadata": {},
     "output_type": "execute_result"
    }
   ],
   "source": [
    "obj2[obj2 > 4]"
   ]
  },
  {
   "cell_type": "code",
   "execution_count": 28,
   "id": "66e3787e",
   "metadata": {},
   "outputs": [
    {
     "data": {
      "text/plain": [
       "a     8\n",
       "b    18\n",
       "c    16\n",
       "d    14\n",
       "dtype: int64"
      ]
     },
     "execution_count": 28,
     "metadata": {},
     "output_type": "execute_result"
    }
   ],
   "source": [
    "obj2*2 #Multiplication"
   ]
  },
  {
   "cell_type": "code",
   "execution_count": 29,
   "id": "294f33e4",
   "metadata": {},
   "outputs": [
    {
     "data": {
      "text/plain": [
       "a      54.598150\n",
       "b    8103.083928\n",
       "c    2980.957987\n",
       "d    1096.633158\n",
       "dtype: float64"
      ]
     },
     "execution_count": 29,
     "metadata": {},
     "output_type": "execute_result"
    }
   ],
   "source": [
    "np.exp(obj2)"
   ]
  },
  {
   "cell_type": "markdown",
   "id": "e3542f92",
   "metadata": {},
   "source": [
    "Series can also be thought like a dictionary: For example it is mapping index value to data value."
   ]
  },
  {
   "cell_type": "code",
   "execution_count": 37,
   "id": "a68c4d09",
   "metadata": {},
   "outputs": [
    {
     "data": {
      "text/plain": [
       "True"
      ]
     },
     "execution_count": 37,
     "metadata": {},
     "output_type": "execute_result"
    }
   ],
   "source": [
    "'b' in obj2\n",
    "'c' in obj2"
   ]
  },
  {
   "cell_type": "code",
   "execution_count": 38,
   "id": "18355516",
   "metadata": {},
   "outputs": [
    {
     "data": {
      "text/plain": [
       "False"
      ]
     },
     "execution_count": 38,
     "metadata": {},
     "output_type": "execute_result"
    }
   ],
   "source": [
    "'f' in obj2"
   ]
  },
  {
   "cell_type": "markdown",
   "id": "c7f874e9",
   "metadata": {},
   "source": [
    "#### Dictionary to Series Transformation: Here the key is recognised as index in series."
   ]
  },
  {
   "cell_type": "code",
   "execution_count": 40,
   "id": "6d9865c1",
   "metadata": {},
   "outputs": [],
   "source": [
    "sdic = {'b':2000, 'c':3000, 'a':1000, 'd':4000}"
   ]
  },
  {
   "cell_type": "code",
   "execution_count": 41,
   "id": "29acd7d9",
   "metadata": {},
   "outputs": [],
   "source": [
    "ser = pd.Series(sdic) "
   ]
  },
  {
   "cell_type": "code",
   "execution_count": 42,
   "id": "99d54950",
   "metadata": {},
   "outputs": [
    {
     "data": {
      "text/plain": [
       "b    2000\n",
       "c    3000\n",
       "a    1000\n",
       "d    4000\n",
       "dtype: int64"
      ]
     },
     "execution_count": 42,
     "metadata": {},
     "output_type": "execute_result"
    }
   ],
   "source": [
    "ser"
   ]
  },
  {
   "cell_type": "code",
   "execution_count": 43,
   "id": "31e12c7a",
   "metadata": {},
   "outputs": [],
   "source": [
    "#Proper arrangment:"
   ]
  },
  {
   "cell_type": "code",
   "execution_count": 44,
   "id": "02a18538",
   "metadata": {},
   "outputs": [],
   "source": [
    "alpha = ['a','b','c','d','e']"
   ]
  },
  {
   "cell_type": "code",
   "execution_count": 45,
   "id": "2d6474ed",
   "metadata": {},
   "outputs": [],
   "source": [
    "obj4 = Series(sdic, index = alpha) #assigning index with variable alpha created above"
   ]
  },
  {
   "cell_type": "code",
   "execution_count": 46,
   "id": "1b21b39f",
   "metadata": {},
   "outputs": [
    {
     "data": {
      "text/plain": [
       "a    1000.0\n",
       "b    2000.0\n",
       "c    3000.0\n",
       "d    4000.0\n",
       "e       NaN\n",
       "dtype: float64"
      ]
     },
     "execution_count": 46,
     "metadata": {},
     "output_type": "execute_result"
    }
   ],
   "source": [
    "obj4"
   ]
  },
  {
   "cell_type": "code",
   "execution_count": 47,
   "id": "b9441a37",
   "metadata": {},
   "outputs": [],
   "source": [
    "### isnull and #notnull will help us check if there is any missing data in our data file."
   ]
  },
  {
   "cell_type": "code",
   "execution_count": 48,
   "id": "d8a0ada6",
   "metadata": {},
   "outputs": [
    {
     "data": {
      "text/plain": [
       "a    False\n",
       "b    False\n",
       "c    False\n",
       "d    False\n",
       "e     True\n",
       "dtype: bool"
      ]
     },
     "execution_count": 48,
     "metadata": {},
     "output_type": "execute_result"
    }
   ],
   "source": [
    "pd.isnull(obj4) "
   ]
  },
  {
   "cell_type": "code",
   "execution_count": 49,
   "id": "1a2c8250",
   "metadata": {},
   "outputs": [
    {
     "data": {
      "text/plain": [
       "a     True\n",
       "b     True\n",
       "c     True\n",
       "d     True\n",
       "e    False\n",
       "dtype: bool"
      ]
     },
     "execution_count": 49,
     "metadata": {},
     "output_type": "execute_result"
    }
   ],
   "source": [
    "pd.notnull(obj4)"
   ]
  },
  {
   "cell_type": "code",
   "execution_count": null,
   "id": "37e36906",
   "metadata": {},
   "outputs": [],
   "source": []
  },
  {
   "cell_type": "markdown",
   "id": "17e2a50d",
   "metadata": {},
   "source": [
    "#Some more operations:"
   ]
  },
  {
   "cell_type": "code",
   "execution_count": 51,
   "id": "f485760b",
   "metadata": {},
   "outputs": [],
   "source": [
    "obj3 = Series([10,20,30,40],index = ['a','b','c','d'])"
   ]
  },
  {
   "cell_type": "code",
   "execution_count": 52,
   "id": "7473abaa",
   "metadata": {},
   "outputs": [
    {
     "data": {
      "text/plain": [
       "a    10\n",
       "b    20\n",
       "c    30\n",
       "d    40\n",
       "dtype: int64"
      ]
     },
     "execution_count": 52,
     "metadata": {},
     "output_type": "execute_result"
    }
   ],
   "source": [
    "obj3"
   ]
  },
  {
   "cell_type": "code",
   "execution_count": 53,
   "id": "41a3e97d",
   "metadata": {},
   "outputs": [
    {
     "data": {
      "text/plain": [
       "a    1000.0\n",
       "b    2000.0\n",
       "c    3000.0\n",
       "d    4000.0\n",
       "e       NaN\n",
       "dtype: float64"
      ]
     },
     "execution_count": 53,
     "metadata": {},
     "output_type": "execute_result"
    }
   ],
   "source": [
    "obj4"
   ]
  },
  {
   "cell_type": "code",
   "execution_count": 54,
   "id": "6b640161",
   "metadata": {},
   "outputs": [
    {
     "data": {
      "text/plain": [
       "a    1010.0\n",
       "b    2020.0\n",
       "c    3030.0\n",
       "d    4040.0\n",
       "e       NaN\n",
       "dtype: float64"
      ]
     },
     "execution_count": 54,
     "metadata": {},
     "output_type": "execute_result"
    }
   ],
   "source": [
    "obj3 + obj4"
   ]
  },
  {
   "cell_type": "markdown",
   "id": "5064bc3f",
   "metadata": {},
   "source": [
    "#### Both the Series object itself and its index have a name attribute"
   ]
  },
  {
   "cell_type": "code",
   "execution_count": 56,
   "id": "5bc39a2d",
   "metadata": {},
   "outputs": [],
   "source": [
    "obj4.name = 'Money'"
   ]
  },
  {
   "cell_type": "code",
   "execution_count": 57,
   "id": "a715d506",
   "metadata": {},
   "outputs": [],
   "source": [
    "obj4.index.name = 'person'"
   ]
  },
  {
   "cell_type": "code",
   "execution_count": 58,
   "id": "4dc03437",
   "metadata": {},
   "outputs": [
    {
     "data": {
      "text/plain": [
       "person\n",
       "a    1000.0\n",
       "b    2000.0\n",
       "c    3000.0\n",
       "d    4000.0\n",
       "e       NaN\n",
       "Name: Money, dtype: float64"
      ]
     },
     "execution_count": 58,
     "metadata": {},
     "output_type": "execute_result"
    }
   ],
   "source": [
    "obj4"
   ]
  },
  {
   "cell_type": "code",
   "execution_count": null,
   "id": "ff69ce9b",
   "metadata": {},
   "outputs": [],
   "source": []
  },
  {
   "cell_type": "code",
   "execution_count": null,
   "id": "187859ac",
   "metadata": {},
   "outputs": [],
   "source": []
  }
 ],
 "metadata": {
  "kernelspec": {
   "display_name": "Python 3 (ipykernel)",
   "language": "python",
   "name": "python3"
  },
  "language_info": {
   "codemirror_mode": {
    "name": "ipython",
    "version": 3
   },
   "file_extension": ".py",
   "mimetype": "text/x-python",
   "name": "python",
   "nbconvert_exporter": "python",
   "pygments_lexer": "ipython3",
   "version": "3.9.7"
  }
 },
 "nbformat": 4,
 "nbformat_minor": 5
}
